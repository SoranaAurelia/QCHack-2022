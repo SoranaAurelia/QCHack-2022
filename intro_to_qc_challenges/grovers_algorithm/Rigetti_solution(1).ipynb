{
 "cells": [
  {
   "cell_type": "code",
   "execution_count": 9,
   "id": "b9e1189f-858e-4a36-bbe6-ea1fb1a9d11f",
   "metadata": {},
   "outputs": [],
   "source": [
    "string=\"arn:aws:braket:us-west-1:592242689881:quantum-task/ad7a2d72-61fe-40e4-a1e1-318c1968f527\"\n",
    "\n",
    "\n",
    "import matplotlib.pyplot as plt\n",
    "import numpy as np"
   ]
  },
  {
   "cell_type": "code",
   "execution_count": 2,
   "id": "a7c2f611-6dd6-4297-967d-dd44f5234138",
   "metadata": {},
   "outputs": [
    {
     "name": "stdout",
     "output_type": "stream",
     "text": [
      "\u001b[0;35m You have already disabled qBraid quantum jobs.\u001b[0m\n"
     ]
    }
   ],
   "source": [
    "!qbraid disable account qbraid_sdk"
   ]
  },
  {
   "cell_type": "code",
   "execution_count": 3,
   "id": "abf116db-d5fd-4450-9165-3bc8edee1f11",
   "metadata": {},
   "outputs": [],
   "source": [
    "from braket.aws import AwsSession, AwsQuantumTask\n",
    "\n",
    "# restore task with unique arn\n",
    "task_load = AwsQuantumTask(arn=string)\n",
    "# retrieve the result of the task\n",
    "result = task_load.result()"
   ]
  },
  {
   "cell_type": "code",
   "execution_count": 4,
   "id": "e1748a91-1f17-4f73-8f4b-4423db6d5360",
   "metadata": {},
   "outputs": [
    {
     "name": "stdout",
     "output_type": "stream",
     "text": [
      "{'00011011': 19, '01111111': 17, '00111111': 12, '00110110': 12, '11011111': 11, '00111110': 11, '11111111': 11, '11010111': 11, '01010111': 11, '01011111': 10, '00011111': 10, '01010011': 10, '01110111': 10, '11010110': 9, '01010100': 9, '01111110': 9, '01011100': 9, '00100111': 9, '01111101': 9, '01011010': 9, '11101111': 9, '00111101': 8, '01010101': 8, '11011100': 8, '01110110': 8, '01000111': 8, '11110111': 8, '11111101': 8, '10010110': 8, '01011110': 8, '01101111': 7, '01110101': 7, '10100100': 7, '00111011': 7, '01001100': 7, '00010011': 7, '01011101': 7, '10111111': 7, '11001111': 7, '10110110': 7, '00100100': 7, '11110101': 7, '01010000': 7, '00000110': 7, '00110111': 7, '00101111': 7, '01100111': 7, '11010011': 6, '01001011': 6, '01011001': 6, '11111100': 6, '00110011': 6, '00001011': 6, '01010110': 6, '00011110': 6, '00011010': 6, '00110100': 6, '00000011': 6, '10011110': 6, '11111110': 6, '01010010': 6, '01111001': 6, '00010111': 6, '01111011': 5, '10111101': 5, '11010010': 5, '00011101': 5, '10011011': 5, '10110100': 5, '01110011': 5, '00011100': 5, '11011110': 5, '01000011': 5, '10010010': 5, '00000111': 5, '00010110': 5, '10110111': 5, '11011000': 5, '10011001': 5, '01101101': 5, '01100101': 5, '00100101': 5, '10101110': 5, '11001011': 5, '10101111': 5, '10011111': 5, '00001100': 5, '11100110': 5, '00001010': 5, '10110101': 5, '00111100': 5, '10111100': 5, '11100111': 5, '10000011': 5, '11011001': 4, '00110000': 4, '11111011': 4, '00010100': 4, '10111110': 4, '10100111': 4, '01001101': 4, '11110000': 4, '11010000': 4, '01001010': 4, '00010101': 4, '01110010': 4, '10001011': 4, '01111010': 4, '10110011': 4, '11000111': 4, '01111100': 4, '01101011': 4, '00100110': 4, '10011100': 4, '11001101': 4, '11011011': 4, '00010000': 4, '10000110': 3, '11001110': 3, '00100011': 3, '10101101': 3, '11010100': 3, '00101011': 3, '00010001': 3, '01100100': 3, '11111001': 3, '11011101': 3, '11100101': 3, '00001101': 3, '01000001': 3, '01011011': 3, '01001000': 3, '10111011': 3, '00101110': 3, '10100110': 3, '10000101': 3, '00001001': 3, '10010000': 3, '00011000': 3, '11110100': 3, '00000101': 3, '01110001': 3, '00101010': 3, '00000010': 3, '10010011': 3, '11100001': 3, '01000100': 3, '01000101': 3, '11010001': 3, '11000001': 3, '11110110': 3, '11101001': 3, '10000100': 3, '11000100': 3, '01000110': 3, '10000010': 3, '11100100': 3, '11111010': 3, '00001111': 3, '00110101': 3, '10101100': 3, '01001111': 2, '11110001': 2, '01101000': 2, '01000000': 2, '00001000': 2, '10011101': 2, '00010010': 2, '11011010': 2, '10101011': 2, '01001110': 2, '00000000': 2, '10001100': 2, '11010101': 2, '01101110': 2, '10001110': 2, '00101100': 2, '11001001': 2, '11101110': 2, '11000110': 2, '10010101': 2, '10100011': 2, '00100001': 2, '10001111': 2, '00101001': 2, '00110001': 2, '10110000': 2, '00000100': 2, '00110010': 2, '10110010': 2, '11000101': 2, '01100010': 2, '11110010': 2, '01000010': 2, '11110011': 2, '00101000': 1, '01101010': 1, '00111001': 1, '10000111': 1, '11101100': 1, '01100000': 1, '00000001': 1, '00100000': 1, '10100010': 1, '10010100': 1, '11101101': 1, '11100000': 1, '01110000': 1, '01101001': 1, '01111000': 1, '01100110': 1, '00001110': 1, '11101000': 1, '10100101': 1, '11001010': 1, '11101011': 1, '11100011': 1, '10101001': 1, '00101101': 1, '01110100': 1, '00111000': 1, '00011001': 1, '11000010': 1, '11101010': 1, '11001100': 1, '10010001': 1, '01100011': 1, '01010001': 1, '01001001': 1, '00111010': 1, '10011000': 1, '10101000': 1, '01100001': 1, '10010111': 1}\n"
     ]
    }
   ],
   "source": [
    "task_result = result.measurement_counts\n",
    "\n",
    "# print(task_result.keys())\n",
    "sortF = dict(sorted(task_result.items(), key=lambda item: item[1]))\n",
    "res =dict(reversed(list(sortF.items())))\n",
    "\n",
    "print(res)\n",
    "\n"
   ]
  },
  {
   "cell_type": "code",
   "execution_count": 12,
   "id": "7a53bfce-8102-4a28-95e7-7e76958e30e9",
   "metadata": {},
   "outputs": [],
   "source": [
    "\n",
    "\n",
    "import networkx as nx\n",
    "\n",
    "\n",
    "graph = nx.Graph()\n",
    "graph.add_nodes_from([0,1,2,3,4])\n",
    "graph.add_edges_from([(0, 4), (0, 3), (0, 2), (1, 2), (1, 4), (1, 3), (2, 4), (3, 4)])\n"
   ]
  },
  {
   "cell_type": "code",
   "execution_count": 13,
   "id": "78daa277-065d-4597-99d2-f483ca7743a2",
   "metadata": {},
   "outputs": [
    {
     "name": "stdout",
     "output_type": "stream",
     "text": [
      "[4, 3, 1, 2, 0, 4]\n"
     ]
    }
   ],
   "source": [
    "# get the best one:\n",
    "solution_vis=[]\n",
    "oneSolution =   list(res)[0]\n",
    "\n",
    "# convert it to the form we need:\n",
    "# we need to keep in mind that the qubits are reversed here!\n",
    "solution = [4]\n",
    "i = 7\n",
    "for _ in range(2):\n",
    "    val = (int)(oneSolution[i])*2+(int)(oneSolution[i-1])\n",
    "    i=i-2\n",
    "    solution.append(val)\n",
    "\n",
    "# to construct the solution we add the remaining nodes on the already established rule\n",
    "# they have the same starting bit as the ones from one bit before and have different second-bit value \n",
    "\n",
    "i = 7\n",
    "for _ in range(2):\n",
    "    solution.append((int)(oneSolution[i])*2+(1-(int)(oneSolution[i-1])))\n",
    "    i=i-2\n",
    "\n",
    "solution.append(4)\n",
    "\n",
    "solution_vis.append(solution)\n",
    "\n",
    "print(solution)\n"
   ]
  },
  {
   "cell_type": "code",
   "execution_count": 14,
   "id": "8ecb68f5-da45-4e2b-8336-cd2f02e8c4ba",
   "metadata": {},
   "outputs": [
    {
     "data": {
      "image/png": "[encoded data removed]",
      "text/plain": [
       "<Figure size 1440x1440 with 1 Axes>"
      ]
     },
     "metadata": {},
     "output_type": "display_data"
    }
   ],
   "source": [
    "f = plt.figure(figsize=(20,20))\n",
    "plt.subplots_adjust(bottom=0.1, right=0.8, top=0.9)\n",
    "plotC = 1\n",
    "\n",
    "edges_g = [(0, 4), (0, 3), (0, 2), (1, 2), (1, 4), (1, 3), (2, 4), (3, 4)]\n",
    "\n",
    "pos = {0: (50, 50), 1: (50, 40), 2: (20, 20), 3: (20, 30), 4: (30, 30)}\n",
    "\n",
    "for sol in solution_vis:\n",
    "    graph_copy = nx.Graph()\n",
    "    graph_copy.add_nodes_from(pos.keys())\n",
    "   \n",
    "    for i in range(len(sol)-1):\n",
    "        graph_copy.add_edge(sol[i],sol[i+1],color='red', weight=3)\n",
    "    for (x, y) in edges_g:\n",
    "        if not graph_copy.has_edge(x, y):\n",
    "            graph_copy.add_edge(x,y,color='black', weight=1)\n",
    "    \n",
    "    edges = graph_copy.edges()\n",
    "    colors = [graph_copy[u][v]['color'] for u,v in edges]\n",
    "    weights = [graph_copy[u][v]['weight'] for u,v in edges]\n",
    "    \n",
    "    nodePos = nx.circular_layout(graph_copy)\n",
    "    plt.subplot(4, 6, plotC)\n",
    "    plotC+=1\n",
    "    # pos = nx.random_layout(graph_copy)\n",
    "    # nx.draw(graph_copy, with_labels=True)\n",
    "    nx.draw(graph_copy, edge_color=colors, pos=nodePos, width=weights, with_labels = True)\n",
    "    if plotC > 24:\n",
    "        break\n",
    "    \n",
    "    \n"
   ]
  },
  {
   "cell_type": "code",
   "execution_count": 15,
   "id": "717db780-df90-49f6-a2c5-e6620e7695bf",
   "metadata": {},
   "outputs": [
    {
     "data": {
      "image/png": "[encoded data removed]",
      "text/plain": [
       "<Figure size 432x288 with 1 Axes>"
      ]
     },
     "metadata": {
      "needs_background": "light"
     },
     "output_type": "display_data"
    }
   ],
   "source": [
    "plt.bar(task_result.keys(), task_result.values());\n",
    "plt.xlabel('bitstrings');\n",
    "plt.ylabel('counts');"
   ]
  },
  {
   "cell_type": "code",
   "execution_count": null,
   "id": "69301e75-ec76-4f28-843c-2a1127940811",
   "metadata": {},
   "outputs": [],
   "source": []
  }
 ],
 "metadata": {
  "kernelspec": {
   "display_name": "Python 3 [qBraid-SDK]",
   "language": "python",
   "name": "python3_qbraid_sdk_9j9sjy"
  },
  "language_info": {
   "codemirror_mode": {
    "name": "ipython",
    "version": 3
   },
   "file_extension": ".py",
   "mimetype": "text/x-python",
   "name": "python",
   "nbconvert_exporter": "python",
   "pygments_lexer": "ipython3",
   "version": "3.9.7"
  }
 },
 "nbformat": 4,
 "nbformat_minor": 5
}
