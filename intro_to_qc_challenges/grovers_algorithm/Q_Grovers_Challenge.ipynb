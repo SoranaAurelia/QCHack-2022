{
  "cells": [
    {
      "cell_type": "markdown",
      "metadata": {},
      "source": [
        "# Grover's Algorithm qBraid Challenge\n",
        "\n",
        "In this challenge you and your team are tasked to code Grover's Algorithm to find a valid Hamiltonian cycle in a graph with 5 vertices. A Hamiltonian cycle or circuit is a closed loop on a graph where the edges visits each node exactly once and travels back to the first node. You'll have to figure out how to setup a proper phase oracle which searches through the different paths and returns the unique Hamiltonian cycles in the circuit.\n",
        "\n",
        "Before you get started make sure that:\n",
        "\n",
        "- You've enabled your qBraid Amazon Braket account. `qbraid enable account aws_braket`\n",
        "- Activated the Braket environment and are using the Braket Python 3 kernel (on the top right you should see **Python 3 [Braket]**)\n",
        "- *Please copy this file and rename it <team_name>\\_grover.ipynb*- we'd like to avoid merge conflicts with other submissions!"
      ]
    },
    {
      "cell_type": "markdown",
      "metadata": {},
      "source": [
        "## Submission Checklist\n",
        "- Make sure to include a readme!\n",
        "- Make sure you've run or queued your solution on a real quantum computer (Rigetti M-1 perferred)\n",
        "- Double check that your solution works with the autograder!\n",
        "\n",
        "## Judging Criteria\n",
        "- Your code must include a README.md which describes your implementation and includes how to run your solution.\n",
        "- Your code should be documented and easy to understand!\n",
        "- There are plenty of implementations on the web to guide you in better understanding Grover's search. Feel free to use them as guidance, but do code your solutions with as few out of box solutions \n",
        "    ie don't `from some_package import Grover`\n",
        "- Your code must run a job on real hardware or SV1 simulator using the qBraid Amazon Braket Account.\n"
      ]
    },
    {
      "cell_type": "markdown",
      "metadata": {},
      "source": [
        "## Challenge description\n",
        "- The graph is undirected and constrained to 5 nodes and 8 vertices. This implies that you should get more than one possible Hamiltonian cycle. You will just need to verify one of them.\n",
        "- There are no self loops\n",
        "- It does not have to be the shortest path.\n",
        "- You are free to choose any appropriate starting node.\n",
        "\n",
        "Your results should be a list of integers which indicate the nodes which are traversed in the path which your Grover's Algorithm has found.\n",
        "\n",
        "To use with the auto grader make sure that you provide it a list of integers:\n",
        "[ initial_node, second_node, ... intial_node]\n",
        "\n",
        "ex: [1,3,4,0,2,1]\n",
        "\n",
        "Possible extensions:\n",
        "- Generalize the oracle to handle smaller graphs where it verifies if there indeed exists a Hamiltonian cycle.\n",
        "- Run on different Amazon Braket devices and check your results!\n",
        "- Apply this algorithm to a cool real world scenario and discuss how it can be applied in the README.md.\n",
        "- Anything else you and your team come up with!\n",
        "\n"
      ]
    },
    {
      "cell_type": "markdown",
      "metadata": {},
      "source": [
        "### The graph\n",
        "The graph is an undirected graph with 5 nodes and 8 edges.\n",
        "You'll have to consider how to encode the edges as well as construct the correct oracle for the Grover's algorithm.\n",
        "\n",
        "You're more than welcome to reference the Braket [**Grover's Algorithm tutorial**](../../amazon_braket_examples/advanced_circuits_algorithms/Grover/Grover.ipynb) as well as any other resources you find useful.\n"
      ]
    },
    {
      "cell_type": "code",
      "execution_count": 42,
      "metadata": {},
      "outputs": [],
      "source": [
        "import networkx as nx\n",
        "\n",
        "# AWS imports: Import Braket SDK modules\n",
        "from braket.circuits import Circuit, Gate, Instruction, circuit, Observable\n",
        "from braket.devices import LocalSimulator\n",
        "from braket.aws import AwsDevice, AwsQuantumTask"
      ]
    },
    {
      "cell_type": "code",
      "execution_count": 40,
      "metadata": {},
      "outputs": [],
      "source": [
        "graph = nx.Graph()\n",
        "graph.add_nodes_from([0,1,2,3,4])\n",
        "graph.add_edges_from([(0, 4), (0, 3), (0, 2), (1, 2), (1, 4), (1, 3), (2, 4), (3, 4)])"
      ]
    },
    {
      "cell_type": "markdown",
      "metadata": {},
      "source": [
        "After creating the random graph to get you started, we recreate it and save it as an object for you to work with."
      ]
    },
    {
      "cell_type": "code",
      "execution_count": 41,
      "metadata": {},
      "outputs": [
        {
          "name": "stdout",
          "output_type": "stream",
          "text": [
            "Graph with 5 nodes and 8 edges\n",
            "[(0, 4), (0, 3), (0, 2), (1, 2), (1, 4), (1, 3), (2, 4), (3, 4)]\n"
          ]
        },
        {
          "data": {
            "image/png": "[encoded data removed]",
            "text/plain": [
              "<Figure size 432x288 with 1 Axes>"
            ]
          },
          "metadata": {},
          "output_type": "display_data"
        }
      ],
      "source": [
        "print(graph)\n",
        "print(graph.edges)\n",
        "nx.draw_networkx(graph)"
      ]
    },
    {
      "cell_type": "markdown",
      "metadata": {},
      "source": [
        "## Run on a quantum device\n",
        "We'd recommend double checking your implementation on a local simulator before running it on the Aspen M-1.\n"
      ]
    },
    {
      "cell_type": "code",
      "execution_count": null,
      "metadata": {},
      "outputs": [],
      "source": [
        "from braket.aws import AwsDevice, AwsQuantumTask\n",
        "# set up device\n",
        "rigetti = AwsDevice(\"arn:aws:braket:us-west-1::device/qpu/rigetti/Aspen-M-1\")\n",
        "rigetti.properties"
      ]
    },
    {
      "cell_type": "code",
      "execution_count": null,
      "metadata": {},
      "outputs": [
        {
          "data": {
            "text/plain": [
              "NodeView((0, 1, 2, 3, 4, 5, 6, 7))"
            ]
          },
          "execution_count": 19,
          "metadata": {},
          "output_type": "execute_result"
        }
      ],
      "source": [
        "# YOUR CODE HERE"
      ]
    },
    {
      "cell_type": "code",
      "execution_count": null,
      "metadata": {},
      "outputs": [],
      "source": [
        "# run circuit \n",
        "rigetti_task = rigetti.run(YOUR_CIRCUIT, shots=1000)\n",
        "\n",
        "# get id and status of submitted task\n",
        "rigetti_task_id = rigetti_task.id\n",
        "rigetti_status = rigetti_task.state()\n",
        "# print('ID of task:', rigetti_task_id)\n",
        "print('Status of task:', rigetti_status)"
      ]
    },
    {
      "cell_type": "markdown",
      "metadata": {},
      "source": [
        "Let's verify that your quantum job was submitted!"
      ]
    },
    {
      "cell_type": "code",
      "execution_count": null,
      "metadata": {},
      "outputs": [],
      "source": [
        "# print status\n",
        "!qbraid credits\n",
        "status = rigetti_task.state()\n",
        "print('Status of (reconstructed) task:', status)"
      ]
    },
    {
      "cell_type": "markdown",
      "metadata": {},
      "source": [
        "## Verify your solution\n",
        "Using our autograder, input the solution you and your teammates have come up with.\n",
        "Your solution should be a list of integers beginning with the initial node to traverse the graph and ending with the same node to complete the \"cycle\". "
      ]
    },
    {
      "cell_type": "code",
      "execution_count": 7,
      "metadata": {},
      "outputs": [
        {
          "name": "stdout",
          "output_type": "stream",
          "text": [
            "Success: path is a Hamiltonian cycle\n"
          ]
        },
        {
          "data": {
            "text/plain": [
              "True"
            ]
          },
          "execution_count": 7,
          "metadata": {},
          "output_type": "execute_result"
        }
      ],
      "source": [
        "# feed your solution to the auto-grader in the following format:\n",
        "from auto_grader import is_hamiltonian_cycle\n",
        "path = [5,6,1,7,4,2,0,3,5]\n",
        "is_hamiltonian_cycle(graph,path)"
      ]
    },
    {
      "cell_type": "markdown",
      "metadata": {},
      "source": [
        "## References\n",
        "Grover, L. K. A fast quantum mechanical algorithm for database search. Proceedings of the 28th Annual ACM Symposium on Theory of Computation,212–219 (1996).\n",
        "\n",
        "Mahasinghe, Anuradha & Hua, Richard & Dinneen, Michael & Goyal, Rajni. (2019). Solving the Hamiltonian Cycle Problem using a Quantum Computer. 1-9. 10.1145/3290688.3290703. "
      ]
    }
  ],
  "metadata": {
    "interpreter": {
      "hash": "58b72576b6658bd6ccd68b866a6387eb3eb2eb4149b077f5a55bf8fd5b90c11e"
    },
    "kernelspec": {
      "display_name": "Python 3.9.7 ('qbraid')",
      "language": "python",
      "name": "python3"
    },
    "language_info": {
      "codemirror_mode": {
        "name": "ipython",
        "version": 3
      },
      "file_extension": ".py",
      "mimetype": "text/x-python",
      "name": "python",
      "nbconvert_exporter": "python",
      "pygments_lexer": "ipython3",
      "version": "3.9.7"
    },
    "orig_nbformat": 4
  },
  "nbformat": 4,
  "nbformat_minor": 2
}
